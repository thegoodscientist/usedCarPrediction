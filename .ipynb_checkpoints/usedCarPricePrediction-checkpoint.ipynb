{
 "cells": [
  {
   "cell_type": "markdown",
   "metadata": {},
   "source": [
    "# Predict the price of a used vehicle\n",
    "-  Reference: __[Data Prep in CRISP-DM methodology](https://medium.com/analytics-vidhya/crisp-dm-phase-3-data-preparation-faf5ee8dc38e)__ \n",
    "## Data Understanding\n",
    "### Collect Initial Data\n",
    "-  Data Source: __[Used Car Price Prediction Dataset](https://www.kaggle.com/datasets/taeefnajib/used-car-price-prediction-dataset?datasetId=3742543)__ "
   ]
  },
  {
   "cell_type": "code",
   "execution_count": 4,
   "metadata": {},
   "outputs": [
    {
     "name": "stdout",
     "output_type": "stream",
     "text": [
      "Variables in the dataset: \n",
      "brand\n",
      "model\n",
      "model_year\n",
      "milage\n",
      "fuel_type\n",
      "engine\n",
      "transmission\n",
      "ext_col\n",
      "int_col\n",
      "accident\n",
      "clean_title\n",
      "price\n"
     ]
    }
   ],
   "source": [
    "import pandas as pd\n",
    "import numpy as np\n",
    "used_cars_filePath = \"./used_cars.csv\"\n",
    "vehicle_data = pd.read_csv(used_cars_filePath)\n",
    "#vehicle_data.head()\n",
    "variables = list(vehicle_data.columns.values)\n",
    "print(\"Variables in the dataset: \")\n",
    "for variables in vehicle_data.columns:\n",
    "    print(variables)"
   ]
  },
  {
   "cell_type": "markdown",
   "metadata": {},
   "source": [
    "### Describe Data\n",
    "#### Attributes\n",
    "__Brand & Model:__ The make and model of each vehicle. <br>\n",
    "__Model Year:__ Manufacturing year of the vehicle which is crucial for assessing depreciation and technology advancements.<br>\n",
    "__Mileage:__ Mileage of each vehicle which is a key indicator of wear and tear and, therefore, potential maintenance requirements.<br>\n",
    "__Fuel Type:__ Type of fuel that the vehicle runs on: gasoline, diesel, electric, or hybrid.<br>\n",
    "__Engine Type:__ Engine specifications, i.e. performance and efficiency.<br>\n",
    "__Transmission:__ Transmission type: automatic, manual, or another variant.<br>\n",
    "__Exterior & Interior Colors:__ The aesthetic aspects of the vehicles, including exterior and interior color options.<br>\n",
    "__Accident History:__ Whether a vehicle has a prior history of accidents or damage. This attribute is often crucial for informed decision-making.<br>\n",
    "__Clean Title:__ Availability of a clean title, which can impact the vehicle's resale value and legal status.<br>\n",
    "__Price:__ The listed prices for each vehicle.<br>\n"
   ]
  },
  {
   "cell_type": "markdown",
   "metadata": {},
   "source": [
    "### Explore Data\n"
   ]
  },
  {
   "cell_type": "markdown",
   "metadata": {},
   "source": [
    "### Verify Data Quality\n",
    "Ref: __[Basic data quality checks](https://blog.devgenius.io/5-essential-data-quality-checks-you-can-perform-with-python-18fc87655950)__\n",
    "    - Important step to ensure that the data being used is accurate, complete and consistent "
   ]
  },
  {
   "cell_type": "code",
   "execution_count": 5,
   "metadata": {},
   "outputs": [
    {
     "name": "stdout",
     "output_type": "stream",
     "text": [
      "brand             0\n",
      "model             0\n",
      "model_year        0\n",
      "milage            0\n",
      "fuel_type       170\n",
      "engine            0\n",
      "transmission      0\n",
      "ext_col           0\n",
      "int_col           0\n",
      "accident        113\n",
      "clean_title     596\n",
      "price             0\n",
      "dtype: int64\n",
      "\n",
      "Number of instances:  4009\n"
     ]
    }
   ],
   "source": [
    "# Check for missing values\n",
    "missing_values = vehicle_data.isnull().sum()\n",
    "print(missing_values)\n",
    "print(\"\\nNumber of instances: \", len(vehicle_data))"
   ]
  },
  {
   "cell_type": "code",
   "execution_count": 6,
   "metadata": {},
   "outputs": [],
   "source": [
    "#Check for duplicates\n"
   ]
  },
  {
   "cell_type": "markdown",
   "metadata": {},
   "source": [
    "## Data Preparation\n",
    "-  "
   ]
  }
 ],
 "metadata": {
  "kernelspec": {
   "display_name": "Python 3 (ipykernel)",
   "language": "python",
   "name": "python3"
  },
  "language_info": {
   "codemirror_mode": {
    "name": "ipython",
    "version": 3
   },
   "file_extension": ".py",
   "mimetype": "text/x-python",
   "name": "python",
   "nbconvert_exporter": "python",
   "pygments_lexer": "ipython3",
   "version": "3.11.4"
  }
 },
 "nbformat": 4,
 "nbformat_minor": 2
}
